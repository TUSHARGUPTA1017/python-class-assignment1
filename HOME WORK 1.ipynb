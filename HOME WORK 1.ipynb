{
 "cells": [
  {
   "cell_type": "code",
   "execution_count": null,
   "id": "ed86c8e7",
   "metadata": {},
   "outputs": [],
   "source": [
    "s = \"this is My First Python programming class and i am learNING python string and its function\"\n",
    "1 . Try to extract data from index one to index 300 with a jump of 3 \n",
    "2. Try to reverse a string without using reverse function \n",
    "3. Try to split a string after conversion of entire string in uppercase \n",
    "4. try to convert the whole string into lower case \n",
    "5 . Try to capitalize the whole string \n",
    "6 . Write a diference between isalnum() and isalpha()\n",
    "7. Try to give an example of expand tab\n",
    "8 . Give an example of strip , lstrip and rstrip \n",
    "9.  Replace a string charecter by another charector by taking your own example \n",
    "\"sudhanshu\"\n",
    "10 . Try  to give a defination of string center function with and exmple \n",
    "11 . Write your own definition of compiler and interpretor without copy paste form internet in your own language\n",
    "12 . Python is a interpreted of compiled language give a clear ans with your understanding \n",
    "13 . Try to write a usecase of python with your understanding .\n",
    "\n",
    "\n",
    "you have to send a jupyter notebook to shivan@ineuron.ai before next saturday class 21st of may . \n"
   ]
  },
  {
   "cell_type": "code",
   "execution_count": 2,
   "id": "27586263",
   "metadata": {},
   "outputs": [],
   "source": [
    "s = \"this is My First Python programming class and i am learNING python string and its function\""
   ]
  },
  {
   "cell_type": "code",
   "execution_count": 3,
   "id": "80c4efda",
   "metadata": {},
   "outputs": [
    {
     "data": {
      "text/plain": [
       "'this is My First Python programming class and i am learNING python string and its function'"
      ]
     },
     "execution_count": 3,
     "metadata": {},
     "output_type": "execute_result"
    }
   ],
   "source": [
    "s"
   ]
  },
  {
   "cell_type": "code",
   "execution_count": 6,
   "id": "5d9824f4",
   "metadata": {},
   "outputs": [
    {
     "data": {
      "text/plain": [
       "'h   r tnrrmglsnimeNGyosi dtfco'"
      ]
     },
     "execution_count": 6,
     "metadata": {},
     "output_type": "execute_result"
    }
   ],
   "source": [
    "Q1:- s[1:300:3]"
   ]
  },
  {
   "cell_type": "code",
   "execution_count": 13,
   "id": "72620fb1",
   "metadata": {},
   "outputs": [
    {
     "data": {
      "text/plain": [
       "'noitcnuf sti dna gnirts nohtyp GNINrael ma i dna ssalc gnimmargorp nohtyP tsriF yM si siht'"
      ]
     },
     "execution_count": 13,
     "metadata": {},
     "output_type": "execute_result"
    }
   ],
   "source": [
    "Q2:- s[ : : -1]"
   ]
  },
  {
   "cell_type": "code",
   "execution_count": 14,
   "id": "4a488016",
   "metadata": {},
   "outputs": [
    {
     "data": {
      "text/plain": [
       "90"
      ]
     },
     "execution_count": 14,
     "metadata": {},
     "output_type": "execute_result"
    }
   ],
   "source": [
    "len(s)"
   ]
  },
  {
   "cell_type": "code",
   "execution_count": 15,
   "id": "095dd1f5",
   "metadata": {},
   "outputs": [
    {
     "data": {
      "text/plain": [
       "'noitcnuf sti dna gnirts nohtyp GNINrael ma i dna ssalc gnimmargorp nohtyP tsriF yM si sih'"
      ]
     },
     "execution_count": 15,
     "metadata": {},
     "output_type": "execute_result"
    }
   ],
   "source": [
    "s[90:0:-1]"
   ]
  },
  {
   "cell_type": "code",
   "execution_count": 19,
   "id": "a65baf60",
   "metadata": {},
   "outputs": [
    {
     "data": {
      "text/plain": [
       "'THIS IS MY FIRST PYTHON PROGRAMMING CLASS AND I AM LEARNING PYTHON STRING AND ITS FUNCTION'"
      ]
     },
     "execution_count": 19,
     "metadata": {},
     "output_type": "execute_result"
    }
   ],
   "source": [
    " s.upper()\n"
   ]
  },
  {
   "cell_type": "code",
   "execution_count": 20,
   "id": "ada90abb",
   "metadata": {},
   "outputs": [
    {
     "data": {
      "text/plain": [
       "'THIS IS MY FIRST PYTHON PROGRAMMING CLASS AND I AM LEARNING PYTHON STRING AND ITS FUNCTION'"
      ]
     },
     "execution_count": 20,
     "metadata": {},
     "output_type": "execute_result"
    }
   ],
   "source": [
    "s"
   ]
  },
  {
   "cell_type": "code",
   "execution_count": 22,
   "id": "eb362fd4",
   "metadata": {},
   "outputs": [
    {
     "data": {
      "text/plain": [
       "['THIS',\n",
       " 'IS',\n",
       " 'MY',\n",
       " 'FIRST',\n",
       " 'PYTHON',\n",
       " 'PROGRAMMING',\n",
       " 'CLASS',\n",
       " 'AND',\n",
       " 'I',\n",
       " 'AM',\n",
       " 'LEARNING',\n",
       " 'PYTHON',\n",
       " 'STRING',\n",
       " 'AND',\n",
       " 'ITS',\n",
       " 'FUNCTION']"
      ]
     },
     "execution_count": 22,
     "metadata": {},
     "output_type": "execute_result"
    }
   ],
   "source": [
    "Q3 :- s.split()"
   ]
  },
  {
   "cell_type": "code",
   "execution_count": 24,
   "id": "3fd84257",
   "metadata": {},
   "outputs": [
    {
     "data": {
      "text/plain": [
       "'this is my first python programming class and i am learning python string and its function'"
      ]
     },
     "execution_count": 24,
     "metadata": {},
     "output_type": "execute_result"
    }
   ],
   "source": [
    "Q4:- s.lower()"
   ]
  },
  {
   "cell_type": "code",
   "execution_count": 25,
   "id": "74e19472",
   "metadata": {},
   "outputs": [
    {
     "data": {
      "text/plain": [
       "'This is my first python programming class and i am learning python string and its function'"
      ]
     },
     "execution_count": 25,
     "metadata": {},
     "output_type": "execute_result"
    }
   ],
   "source": [
    "Q5:- s.capitalize()"
   ]
  },
  {
   "cell_type": "code",
   "execution_count": 26,
   "id": "4e1b3db0",
   "metadata": {},
   "outputs": [
    {
     "data": {
      "text/plain": [
       "'This Is My First Python Programming Class And I Am Learning Python String And Its Function'"
      ]
     },
     "execution_count": 26,
     "metadata": {},
     "output_type": "execute_result"
    }
   ],
   "source": [
    "s.title()"
   ]
  },
  {
   "cell_type": "code",
   "execution_count": 29,
   "id": "2a56c58d",
   "metadata": {},
   "outputs": [
    {
     "data": {
      "text/plain": [
       "False"
      ]
     },
     "execution_count": 29,
     "metadata": {},
     "output_type": "execute_result"
    }
   ],
   "source": [
    "Q6:- s.isalnum()"
   ]
  },
  {
   "cell_type": "code",
   "execution_count": 28,
   "id": "5c2a3acc",
   "metadata": {},
   "outputs": [
    {
     "data": {
      "text/plain": [
       "False"
      ]
     },
     "execution_count": 28,
     "metadata": {},
     "output_type": "execute_result"
    }
   ],
   "source": [
    "s.isalpha()"
   ]
  },
  {
   "cell_type": "code",
   "execution_count": 36,
   "id": "e892b10c",
   "metadata": {},
   "outputs": [],
   "source": [
    "y=\"T i s n j\"\n"
   ]
  },
  {
   "cell_type": "code",
   "execution_count": 37,
   "id": "f58069d6",
   "metadata": {},
   "outputs": [
    {
     "data": {
      "text/plain": [
       "'T i s n j'"
      ]
     },
     "execution_count": 37,
     "metadata": {},
     "output_type": "execute_result"
    }
   ],
   "source": [
    "y"
   ]
  },
  {
   "cell_type": "code",
   "execution_count": 38,
   "id": "de5e0e21",
   "metadata": {},
   "outputs": [
    {
     "data": {
      "text/plain": [
       "False"
      ]
     },
     "execution_count": 38,
     "metadata": {},
     "output_type": "execute_result"
    }
   ],
   "source": [
    "y.isalpha()"
   ]
  },
  {
   "cell_type": "code",
   "execution_count": 1,
   "id": "240c8af3",
   "metadata": {},
   "outputs": [],
   "source": [
    "Q8:- st = \"   tushar   \""
   ]
  },
  {
   "cell_type": "code",
   "execution_count": 2,
   "id": "4b49811d",
   "metadata": {},
   "outputs": [
    {
     "data": {
      "text/plain": [
       "'   tushar   '"
      ]
     },
     "execution_count": 2,
     "metadata": {},
     "output_type": "execute_result"
    }
   ],
   "source": [
    "t"
   ]
  },
  {
   "cell_type": "code",
   "execution_count": 3,
   "id": "97eb3ff0",
   "metadata": {},
   "outputs": [
    {
     "data": {
      "text/plain": [
       "'tushar'"
      ]
     },
     "execution_count": 3,
     "metadata": {},
     "output_type": "execute_result"
    }
   ],
   "source": [
    "t.strip()"
   ]
  },
  {
   "cell_type": "code",
   "execution_count": 4,
   "id": "35616860",
   "metadata": {},
   "outputs": [
    {
     "data": {
      "text/plain": [
       "'   tushar'"
      ]
     },
     "execution_count": 4,
     "metadata": {},
     "output_type": "execute_result"
    }
   ],
   "source": [
    "t.rstrip()"
   ]
  },
  {
   "cell_type": "code",
   "execution_count": 5,
   "id": "4e0a7e7a",
   "metadata": {},
   "outputs": [
    {
     "data": {
      "text/plain": [
       "'tushar   '"
      ]
     },
     "execution_count": 5,
     "metadata": {},
     "output_type": "execute_result"
    }
   ],
   "source": [
    "t.lstrip()"
   ]
  },
  {
   "cell_type": "code",
   "execution_count": 7,
   "id": "03314e85",
   "metadata": {},
   "outputs": [],
   "source": [
    "t = \"tushar\""
   ]
  },
  {
   "cell_type": "code",
   "execution_count": 8,
   "id": "53e45812",
   "metadata": {},
   "outputs": [
    {
     "data": {
      "text/plain": [
       "'tushar'"
      ]
     },
     "execution_count": 8,
     "metadata": {},
     "output_type": "execute_result"
    }
   ],
   "source": [
    "t"
   ]
  },
  {
   "cell_type": "code",
   "execution_count": 10,
   "id": "b4af9090",
   "metadata": {},
   "outputs": [
    {
     "data": {
      "text/plain": [
       "'t'"
      ]
     },
     "execution_count": 10,
     "metadata": {},
     "output_type": "execute_result"
    }
   ],
   "source": [
    "t[0]"
   ]
  },
  {
   "cell_type": "code",
   "execution_count": 11,
   "id": "7b478b47",
   "metadata": {},
   "outputs": [
    {
     "data": {
      "text/plain": [
       "6"
      ]
     },
     "execution_count": 11,
     "metadata": {},
     "output_type": "execute_result"
    }
   ],
   "source": [
    "len(t)"
   ]
  },
  {
   "cell_type": "code",
   "execution_count": 13,
   "id": "f86b6e1b",
   "metadata": {},
   "outputs": [
    {
     "data": {
      "text/plain": [
       "'h'"
      ]
     },
     "execution_count": 13,
     "metadata": {},
     "output_type": "execute_result"
    }
   ],
   "source": [
    "t[3]"
   ]
  },
  {
   "cell_type": "raw",
   "id": "0fa02113",
   "metadata": {},
   "source": [
    "Q 9 : - now i have to change h with g"
   ]
  },
  {
   "cell_type": "code",
   "execution_count": 19,
   "id": "d110280c",
   "metadata": {},
   "outputs": [],
   "source": [
    "t = t.replace('h','g')"
   ]
  },
  {
   "cell_type": "code",
   "execution_count": 20,
   "id": "3d2d65de",
   "metadata": {},
   "outputs": [
    {
     "data": {
      "text/plain": [
       "'tusgar'"
      ]
     },
     "execution_count": 20,
     "metadata": {},
     "output_type": "execute_result"
    }
   ],
   "source": [
    "t"
   ]
  },
  {
   "cell_type": "code",
   "execution_count": 21,
   "id": "d0397726",
   "metadata": {},
   "outputs": [
    {
     "data": {
      "text/plain": [
       "'tusgar'"
      ]
     },
     "execution_count": 21,
     "metadata": {},
     "output_type": "execute_result"
    }
   ],
   "source": [
    "t.replace(t[3],\"g\")"
   ]
  },
  {
   "cell_type": "code",
   "execution_count": 22,
   "id": "d1578b68",
   "metadata": {},
   "outputs": [
    {
     "data": {
      "text/plain": [
       "'tusgar'"
      ]
     },
     "execution_count": 22,
     "metadata": {},
     "output_type": "execute_result"
    }
   ],
   "source": [
    "t"
   ]
  },
  {
   "cell_type": "code",
   "execution_count": 23,
   "id": "729fb035",
   "metadata": {},
   "outputs": [],
   "source": [
    "Q 10 : T = 'TUSHAR'"
   ]
  },
  {
   "cell_type": "code",
   "execution_count": 26,
   "id": "4fd14527",
   "metadata": {},
   "outputs": [
    {
     "data": {
      "text/plain": [
       "'@@@@@@@TUSHAR@@@@@@'"
      ]
     },
     "execution_count": 26,
     "metadata": {},
     "output_type": "execute_result"
    }
   ],
   "source": [
    "T.center(19,'@')"
   ]
  },
  {
   "cell_type": "markdown",
   "id": "07e952e4",
   "metadata": {},
   "source": [
    "ISALPHA():- as a name indicate this function only give value or answer in true only when our complete data is in alphabaticall form if there is any numeric value in our data then it cant provide any output\n",
    "    "
   ]
  },
  {
   "cell_type": "markdown",
   "id": "af6986d9",
   "metadata": {},
   "source": [
    "ISALNUM():- as it is not biased between alpha or numeric value its give ans in true form wheather our data has alphabets or numbers"
   ]
  },
  {
   "cell_type": "code",
   "execution_count": 1,
   "id": "1677c5ef",
   "metadata": {},
   "outputs": [],
   "source": [
    "a = \"tush9675\""
   ]
  },
  {
   "cell_type": "code",
   "execution_count": 3,
   "id": "003298af",
   "metadata": {},
   "outputs": [
    {
     "data": {
      "text/plain": [
       "False"
      ]
     },
     "execution_count": 3,
     "metadata": {},
     "output_type": "execute_result"
    }
   ],
   "source": [
    "a.isalpha()"
   ]
  },
  {
   "cell_type": "code",
   "execution_count": 5,
   "id": "86acd5cc",
   "metadata": {},
   "outputs": [
    {
     "data": {
      "text/plain": [
       "True"
      ]
     },
     "execution_count": 5,
     "metadata": {},
     "output_type": "execute_result"
    }
   ],
   "source": [
    "a.isalnum()"
   ]
  },
  {
   "cell_type": "code",
   "execution_count": 6,
   "id": "0c840de5",
   "metadata": {},
   "outputs": [],
   "source": [
    "t = \"tush\\t1234\\tabc\""
   ]
  },
  {
   "cell_type": "code",
   "execution_count": 7,
   "id": "1fdce46e",
   "metadata": {},
   "outputs": [
    {
     "data": {
      "text/plain": [
       "'tush    1234    abc'"
      ]
     },
     "execution_count": 7,
     "metadata": {},
     "output_type": "execute_result"
    }
   ],
   "source": [
    "t.expandtabs()"
   ]
  },
  {
   "cell_type": "code",
   "execution_count": 8,
   "id": "f1bb51e5",
   "metadata": {},
   "outputs": [],
   "source": [
    "s = \"   tush   \""
   ]
  },
  {
   "cell_type": "code",
   "execution_count": 9,
   "id": "fe949c34",
   "metadata": {},
   "outputs": [
    {
     "data": {
      "text/plain": [
       "'tush   '"
      ]
     },
     "execution_count": 9,
     "metadata": {},
     "output_type": "execute_result"
    }
   ],
   "source": [
    "s.lstrip()"
   ]
  },
  {
   "cell_type": "code",
   "execution_count": 10,
   "id": "6c84e8b7",
   "metadata": {},
   "outputs": [
    {
     "data": {
      "text/plain": [
       "'   tush'"
      ]
     },
     "execution_count": 10,
     "metadata": {},
     "output_type": "execute_result"
    }
   ],
   "source": [
    "s.rstrip()"
   ]
  },
  {
   "cell_type": "code",
   "execution_count": 12,
   "id": "ab7df4f4",
   "metadata": {},
   "outputs": [
    {
     "data": {
      "text/plain": [
       "'tush'"
      ]
     },
     "execution_count": 12,
     "metadata": {},
     "output_type": "execute_result"
    }
   ],
   "source": [
    "s.strip()"
   ]
  },
  {
   "cell_type": "code",
   "execution_count": null,
   "id": "977ebf98",
   "metadata": {},
   "outputs": [],
   "source": []
  }
 ],
 "metadata": {
  "kernelspec": {
   "display_name": "Python 3 (ipykernel)",
   "language": "python",
   "name": "python3"
  },
  "language_info": {
   "codemirror_mode": {
    "name": "ipython",
    "version": 3
   },
   "file_extension": ".py",
   "mimetype": "text/x-python",
   "name": "python",
   "nbconvert_exporter": "python",
   "pygments_lexer": "ipython3",
   "version": "3.9.7"
  }
 },
 "nbformat": 4,
 "nbformat_minor": 5
}
